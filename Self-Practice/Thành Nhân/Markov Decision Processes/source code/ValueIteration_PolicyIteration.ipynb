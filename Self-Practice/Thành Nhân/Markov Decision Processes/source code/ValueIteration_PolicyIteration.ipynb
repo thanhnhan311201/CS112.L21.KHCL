{
  "nbformat": 4,
  "nbformat_minor": 0,
  "metadata": {
    "colab": {
      "name": "ValueIteration-PolicyIteration.ipynb",
      "provenance": [],
      "collapsed_sections": [
        "BbRdszUQxDB2",
        "o2rTLdc27zGT",
        "r6WRppKhTtju",
        "mykPiF3HO02o",
        "fch2nfthxmQZ",
        "ZKxopMcJqRz8",
        "OCJe5IjgqXW_",
        "5XyxmVyayoyU",
        "feXMEw-HqaP1",
        "M9Ftdeu6qeBL",
        "u0u53x7Xy3MJ",
        "IrGVAqKIqgRs",
        "yJpNY3l_qiah",
        "R-lhkIm2ZpNk",
        "Rt2vOIx0Xjrq"
      ],
      "toc_visible": true,
      "authorship_tag": "ABX9TyOo6VIdS+7KRJ3ksicZsdZJ",
      "include_colab_link": true
    },
    "kernelspec": {
      "name": "python3",
      "display_name": "Python 3"
    },
    "language_info": {
      "name": "python"
    }
  },
  "cells": [
    {
      "cell_type": "markdown",
      "metadata": {
        "id": "view-in-github",
        "colab_type": "text"
      },
      "source": [
        "<a href=\"https://colab.research.google.com/github/thanhnhan311201/CS106.L21.KHCL/blob/main/ValueIteration_PolicyIteration.ipynb\" target=\"_parent\"><img src=\"https://colab.research.google.com/assets/colab-badge.svg\" alt=\"Open In Colab\"/></a>"
      ]
    },
    {
      "cell_type": "markdown",
      "metadata": {
        "id": "BbRdszUQxDB2"
      },
      "source": [
        "# Import Lib"
      ]
    },
    {
      "cell_type": "code",
      "metadata": {
        "id": "gvs9rZQcxGwh"
      },
      "source": [
        "import gym\n",
        "import numpy as np\n",
        "import time\n",
        "from IPython import display"
      ],
      "execution_count": 80,
      "outputs": []
    },
    {
      "cell_type": "markdown",
      "metadata": {
        "id": "o2rTLdc27zGT"
      },
      "source": [
        "# Value Iteration Algorithm"
      ]
    },
    {
      "cell_type": "code",
      "metadata": {
        "id": "HUBFLatYHn4v"
      },
      "source": [
        "def value_iteration(env, max_iters, gamma=0.9):\n",
        "  v_values = np.zeros(env.observation_space.n)\n",
        "\n",
        "  begin_time = time.time()\n",
        "\n",
        "  for i in range(max_iters):\n",
        "    prev_v_values = np.copy(v_values)\n",
        "    # Compute the value for each state\n",
        "    for state in range(env.observation_space.n):\n",
        "      q_values = []\n",
        "\n",
        "      # Compute the q-value for each action\n",
        "      for action in range(env.action_space.n):\n",
        "        q_value = 0\n",
        "        # Loop through each possible outcome\n",
        "        for prob, next_state, reward, done in env.P[state][action]:\n",
        "          q_value += prob * (reward + gamma * prev_v_values[next_state])\n",
        "\n",
        "        q_values.append(q_value)\n",
        "\n",
        "      # Select the biggest q-value\n",
        "      best_action = np.argmax(q_values)\n",
        "      v_values[state] = q_values[best_action]\n",
        "\n",
        "    # Check convergence\n",
        "    if np.all(np.isclose(v_values, prev_v_values)):\n",
        "      print(f'Converge at {i+1}-th iteration.')\n",
        "      exe_time = time.time() - begin_time\n",
        "      break\n",
        "\n",
        "  return v_values, exe_time"
      ],
      "execution_count": 90,
      "outputs": []
    },
    {
      "cell_type": "code",
      "metadata": {
        "id": "bdxL2Q0FLJKw"
      },
      "source": [
        "def policy_extracion(env, v_values, gamma=0.9):\n",
        "  policy = np.zeros(env.observation_space.n, dtype=np.int)\n",
        "  for state in range(env.observation_space.n):\n",
        "    q_values = []\n",
        "    # Compute q-value for each action\n",
        "    for action in range(env.action_space.n):\n",
        "      q_value = 0\n",
        "      for prob, next_state, reward, done in env.P[state][action]:\n",
        "        q_value += prob * (reward + gamma * v_values[next_state])\n",
        "\n",
        "      q_values.append(q_value)\n",
        "\n",
        "    # Select the best action\n",
        "    best_action = np.argmax(q_values)\n",
        "    policy[state] = best_action\n",
        "\n",
        "  return policy"
      ],
      "execution_count": 91,
      "outputs": []
    },
    {
      "cell_type": "markdown",
      "metadata": {
        "id": "r6WRppKhTtju"
      },
      "source": [
        "# Policy Iteration Algorithm"
      ]
    },
    {
      "cell_type": "code",
      "metadata": {
        "id": "CJf3vjiLV0_w"
      },
      "source": [
        "def policy_evaluation(env, max_iters, policy, gamma=0.9):\n",
        "    p_values = np.zeros(env.observation_space.n)\n",
        "\n",
        "    for i in range(max_iters):\n",
        "        prev_p_values = np.copy(p_values)\n",
        "        # Compute the value for each state\n",
        "        for state in range(env.observation_space.n):\n",
        "            q_value = 0\n",
        "            action = policy[state]\n",
        "\n",
        "            # Loop through each possible outcome\n",
        "            for prob, next_state, reward, done in env.P[state][action]:\n",
        "                q_value += prob * (reward + gamma * prev_p_values[next_state])\n",
        "\n",
        "            p_values[state] = q_value\n",
        "\n",
        "        # Check convergence\n",
        "        if np.all(np.isclose(p_values, prev_p_values)):\n",
        "            print(f'Policy evaluation convergence at {i+1}-th iteration')\n",
        "            break\n",
        "\n",
        "    return p_values"
      ],
      "execution_count": 92,
      "outputs": []
    },
    {
      "cell_type": "code",
      "metadata": {
        "id": "ilohd-nkp0Ie"
      },
      "source": [
        "def policy_improvement(env, p_values, gamma=0.9):\n",
        "    policy = np.zeros(env.observation_space.n, dtype=np.int)\n",
        "\n",
        "    # Compute the value for each state\n",
        "    for state in range(env.observation_space.n):\n",
        "        q_values = []\n",
        "        # Compute q-value for each action\n",
        "        for action in range(env.action_space.n):\n",
        "            q_value = 0\n",
        "            for prob, next_state, reward, done in env.P[state][action]:\n",
        "                q_value += prob * (reward + gamma * p_values[next_state])\n",
        "\n",
        "            q_values.append(q_value)\n",
        "\n",
        "        # Improve policy\n",
        "        best_action = np.argmax(q_values)\n",
        "        policy[state] = best_action\n",
        "\n",
        "    return policy"
      ],
      "execution_count": 93,
      "outputs": []
    },
    {
      "cell_type": "code",
      "metadata": {
        "id": "B0DbM25aw4zP"
      },
      "source": [
        "def policy_iteration(env, max_iters, gamma=0.9):\n",
        "    policy = np.random.randint(env.action_space.n, size=env.observation_space.n)\n",
        "\n",
        "    for i in range(max_iters):\n",
        "        prev_policy = np.copy(policy)\n",
        "        begin_time = time.time()\n",
        "        p_values = policy_evaluation(env, max_iters, policy, gamma=0.9)\n",
        "        policy = policy_improvement(env, p_values, gamma=0.9)\n",
        "\n",
        "        if np.all(np.isclose(policy, prev_policy)):\n",
        "            print('------------------------------------')\n",
        "            print(f'Policy iteration converge at {i+1}-th iteration')\n",
        "            exe_time = time.time() - begin_time\n",
        "            break\n",
        "\n",
        "    return policy, exe_time"
      ],
      "execution_count": 94,
      "outputs": []
    },
    {
      "cell_type": "markdown",
      "metadata": {
        "id": "mykPiF3HO02o"
      },
      "source": [
        "# Game function"
      ]
    },
    {
      "cell_type": "code",
      "metadata": {
        "id": "d6LjjjB6NCdx"
      },
      "source": [
        "def play(env, policy):\n",
        "    state = env.reset()\n",
        "    total_reward = 0\n",
        "    done = False\n",
        "    steps = 0\n",
        "    time.sleep(1)\n",
        "    display.clear_output(wait=True)\n",
        "\n",
        "    while not done:\n",
        "        action = policy[state]\n",
        "        next_state, reward, done, info = env.step(action)\n",
        "        total_reward += reward\n",
        "        steps += 1\n",
        "        env.render()\n",
        "        print(f'Step: {steps}')\n",
        "        print(f'Step reward: {reward}')\n",
        "        print(f'Total reward: {total_reward}')\n",
        "        time.sleep(0.2)\n",
        "        if not done:\n",
        "           display.clear_output(wait=True)\n",
        "        state = next_state\n",
        "\n",
        "    if total_reward > 0:\n",
        "        print('Win!')\n",
        "    else:\n",
        "        print('Lose!')\n",
        "    return total_reward"
      ],
      "execution_count": 8,
      "outputs": []
    },
    {
      "cell_type": "code",
      "metadata": {
        "id": "M0HR8z77OP6q"
      },
      "source": [
        "def play_multiple_times(env, policy, max_episodes):\n",
        "    success = 0\n",
        "\n",
        "    for i in range(max_episodes):\n",
        "        state = env.reset()\n",
        "        total_reward = 0\n",
        "        done = False\n",
        "\n",
        "        while not done:\n",
        "            action = policy[state]\n",
        "            next_state, reward, done, info = env.step(action)\n",
        "            total_reward += reward\n",
        "            state = next_state\n",
        "\n",
        "        if total_reward > 0:\n",
        "              success += 1\n",
        "    \n",
        "    print(f'Number of successes: {success}/{max_episodes}')"
      ],
      "execution_count": 9,
      "outputs": []
    },
    {
      "cell_type": "markdown",
      "metadata": {
        "id": "fch2nfthxmQZ"
      },
      "source": [
        "# FrozenLake-v0"
      ]
    },
    {
      "cell_type": "code",
      "metadata": {
        "id": "rg-l4n8kxYAe"
      },
      "source": [
        "env_F4x4_v0 = gym.make('FrozenLake-v0')"
      ],
      "execution_count": 81,
      "outputs": []
    },
    {
      "cell_type": "code",
      "metadata": {
        "colab": {
          "base_uri": "https://localhost:8080/"
        },
        "id": "GW8gBBQlAMX-",
        "outputId": "b29aeab7-84c3-49f2-8561-0b2bdc08052b"
      },
      "source": [
        "env_F4x4_v0.observation_space.n"
      ],
      "execution_count": 82,
      "outputs": [
        {
          "output_type": "execute_result",
          "data": {
            "text/plain": [
              "16"
            ]
          },
          "metadata": {
            "tags": []
          },
          "execution_count": 82
        }
      ]
    },
    {
      "cell_type": "code",
      "metadata": {
        "colab": {
          "base_uri": "https://localhost:8080/"
        },
        "id": "WrYbcapnATMJ",
        "outputId": "3cfe2d0c-1b1a-442c-c053-e8c17c368d02"
      },
      "source": [
        "env_F4x4_v0.action_space.n"
      ],
      "execution_count": 83,
      "outputs": [
        {
          "output_type": "execute_result",
          "data": {
            "text/plain": [
              "4"
            ]
          },
          "metadata": {
            "tags": []
          },
          "execution_count": 83
        }
      ]
    },
    {
      "cell_type": "markdown",
      "metadata": {
        "id": "ZKxopMcJqRz8"
      },
      "source": [
        "## Value Iteration"
      ]
    },
    {
      "cell_type": "code",
      "metadata": {
        "id": "XA6Ho6W0ogGS",
        "colab": {
          "base_uri": "https://localhost:8080/"
        },
        "outputId": "df337bb7-62e5-44e6-a555-6dddbf3702f0"
      },
      "source": [
        "v_values_F4x4_v0, v_exe_time_F4 = value_iteration(env_F4x4_v0, max_iters=1000, gamma=0.9)"
      ],
      "execution_count": 11,
      "outputs": [
        {
          "output_type": "stream",
          "text": [
            "Converge at 80-th iteration.\n"
          ],
          "name": "stdout"
        }
      ]
    },
    {
      "cell_type": "code",
      "metadata": {
        "colab": {
          "base_uri": "https://localhost:8080/"
        },
        "id": "GkJNhytZW2eU",
        "outputId": "20510cf0-4b4c-43c7-e9d2-10c583c307a3"
      },
      "source": [
        "v_values_F4x4_v0"
      ],
      "execution_count": 12,
      "outputs": [
        {
          "output_type": "execute_result",
          "data": {
            "text/plain": [
              "array([0.06888615, 0.06141054, 0.07440682, 0.05580409, 0.09185022,\n",
              "       0.        , 0.11220663, 0.        , 0.14543286, 0.2474946 ,\n",
              "       0.29961593, 0.        , 0.        , 0.3799342 , 0.63901926,\n",
              "       0.        ])"
            ]
          },
          "metadata": {
            "tags": []
          },
          "execution_count": 12
        }
      ]
    },
    {
      "cell_type": "code",
      "metadata": {
        "colab": {
          "base_uri": "https://localhost:8080/"
        },
        "id": "TO5IBuVGdw8t",
        "outputId": "e59fa310-92a6-474b-fc16-890c43aadf47"
      },
      "source": [
        "v_exe_time_F4"
      ],
      "execution_count": 13,
      "outputs": [
        {
          "output_type": "execute_result",
          "data": {
            "text/plain": [
              "0.06053519248962402"
            ]
          },
          "metadata": {
            "tags": []
          },
          "execution_count": 13
        }
      ]
    },
    {
      "cell_type": "code",
      "metadata": {
        "colab": {
          "base_uri": "https://localhost:8080/"
        },
        "id": "r3rj-Pq7UFcO",
        "outputId": "64ee6976-6563-4581-a5cd-763299e4cb69"
      },
      "source": [
        "v_policy_F4x4_v0 = policy_extracion(env_F4x4_v0, v_values_F4x4_v0, gamma=0.9)\n",
        "print(v_policy_F4x4_v0)"
      ],
      "execution_count": 14,
      "outputs": [
        {
          "output_type": "stream",
          "text": [
            "[0 3 0 3 0 0 0 0 3 1 0 0 0 2 1 0]\n"
          ],
          "name": "stdout"
        }
      ]
    },
    {
      "cell_type": "code",
      "metadata": {
        "colab": {
          "base_uri": "https://localhost:8080/"
        },
        "id": "Pkl3N19RUXH7",
        "outputId": "f1eb70fb-475f-44d6-e2c8-9617408f560a"
      },
      "source": [
        "play(env_F4x4_v0, v_policy_F4x4_v0)"
      ],
      "execution_count": 15,
      "outputs": [
        {
          "output_type": "stream",
          "text": [
            "  (Down)\n",
            "SFFF\n",
            "FHFH\n",
            "FFFH\n",
            "HFF\u001b[41mG\u001b[0m\n",
            "Step: 35\n",
            "Step reward: 1.0\n",
            "Total reward: 1.0\n",
            "Win!\n"
          ],
          "name": "stdout"
        },
        {
          "output_type": "execute_result",
          "data": {
            "text/plain": [
              "1.0"
            ]
          },
          "metadata": {
            "tags": []
          },
          "execution_count": 15
        }
      ]
    },
    {
      "cell_type": "code",
      "metadata": {
        "colab": {
          "base_uri": "https://localhost:8080/"
        },
        "id": "M67zmNypUe-O",
        "outputId": "da1c6a59-6284-414f-c71a-3aafb5b06cdb"
      },
      "source": [
        "play_multiple_times(env_F4x4_v0, v_policy_F4x4_v0, max_episodes=1000)"
      ],
      "execution_count": 16,
      "outputs": [
        {
          "output_type": "stream",
          "text": [
            "Number of successes: 720/1000\n"
          ],
          "name": "stdout"
        }
      ]
    },
    {
      "cell_type": "markdown",
      "metadata": {
        "id": "OCJe5IjgqXW_"
      },
      "source": [
        "## Policy Iteration"
      ]
    },
    {
      "cell_type": "code",
      "metadata": {
        "id": "kjNUTBiBqoVY",
        "colab": {
          "base_uri": "https://localhost:8080/"
        },
        "outputId": "63e97704-8c0c-44a2-f287-81aa00e61a1a"
      },
      "source": [
        "p_policy_F4x4_v0, p_exe_time_F4 = policy_iteration(env_F4x4_v0, max_iters=1000, gamma=0.9)\n",
        "print(p_policy_F4x4_v0)"
      ],
      "execution_count": 17,
      "outputs": [
        {
          "output_type": "stream",
          "text": [
            "Policy evaluation convergence at 23-th iteration\n",
            "Policy evaluation convergence at 29-th iteration\n",
            "Policy evaluation convergence at 63-th iteration\n",
            "Policy evaluation convergence at 80-th iteration\n",
            "Policy evaluation convergence at 81-th iteration\n",
            "------------------------------------\n",
            "Policy iteration converge at 5-th iteration\n",
            "[0 3 0 3 0 0 0 0 3 1 0 0 0 2 1 0]\n"
          ],
          "name": "stdout"
        }
      ]
    },
    {
      "cell_type": "code",
      "metadata": {
        "colab": {
          "base_uri": "https://localhost:8080/"
        },
        "id": "5KyaGlKMeBtw",
        "outputId": "e9d276c7-f20f-4531-e8cc-19953f03a9bc"
      },
      "source": [
        "p_exe_time_F4"
      ],
      "execution_count": 18,
      "outputs": [
        {
          "output_type": "execute_result",
          "data": {
            "text/plain": [
              "0.012369871139526367"
            ]
          },
          "metadata": {
            "tags": []
          },
          "execution_count": 18
        }
      ]
    },
    {
      "cell_type": "code",
      "metadata": {
        "colab": {
          "base_uri": "https://localhost:8080/"
        },
        "id": "QcAdrXow79VW",
        "outputId": "b4df69b0-d5d6-4638-d199-2d129459353c"
      },
      "source": [
        "play(env_F4x4_v0, p_policy_F4x4_v0)"
      ],
      "execution_count": 19,
      "outputs": [
        {
          "output_type": "stream",
          "text": [
            "  (Down)\n",
            "SFFF\n",
            "FHFH\n",
            "FFFH\n",
            "HFF\u001b[41mG\u001b[0m\n",
            "Step: 12\n",
            "Step reward: 1.0\n",
            "Total reward: 1.0\n",
            "Win!\n"
          ],
          "name": "stdout"
        },
        {
          "output_type": "execute_result",
          "data": {
            "text/plain": [
              "1.0"
            ]
          },
          "metadata": {
            "tags": []
          },
          "execution_count": 19
        }
      ]
    },
    {
      "cell_type": "code",
      "metadata": {
        "colab": {
          "base_uri": "https://localhost:8080/"
        },
        "id": "LJJZlSDi8FGr",
        "outputId": "de475860-8a44-411a-b473-beb8b395d8ce"
      },
      "source": [
        "play_multiple_times(env_F4x4_v0, p_policy_F4x4_v0, max_episodes=1000)"
      ],
      "execution_count": 20,
      "outputs": [
        {
          "output_type": "stream",
          "text": [
            "Number of successes: 719/1000\n"
          ],
          "name": "stdout"
        }
      ]
    },
    {
      "cell_type": "markdown",
      "metadata": {
        "id": "5XyxmVyayoyU"
      },
      "source": [
        "# FrozenLake8x8-v0"
      ]
    },
    {
      "cell_type": "code",
      "metadata": {
        "id": "_84UA_VDyvzB"
      },
      "source": [
        "env_F8x8_v0 = gym.make('FrozenLake8x8-v0')"
      ],
      "execution_count": 84,
      "outputs": []
    },
    {
      "cell_type": "code",
      "metadata": {
        "colab": {
          "base_uri": "https://localhost:8080/"
        },
        "id": "O8VtCaz6AYdl",
        "outputId": "a476a8d7-24a1-423b-dec8-fc3b5a4a2c44"
      },
      "source": [
        "env_F8x8_v0.observation_space.n"
      ],
      "execution_count": 85,
      "outputs": [
        {
          "output_type": "execute_result",
          "data": {
            "text/plain": [
              "64"
            ]
          },
          "metadata": {
            "tags": []
          },
          "execution_count": 85
        }
      ]
    },
    {
      "cell_type": "code",
      "metadata": {
        "colab": {
          "base_uri": "https://localhost:8080/"
        },
        "id": "4EKO_lB9AbYR",
        "outputId": "5a91276d-4bb7-461e-b682-b145cd34bb9d"
      },
      "source": [
        "env_F8x8_v0.action_space.n"
      ],
      "execution_count": 86,
      "outputs": [
        {
          "output_type": "execute_result",
          "data": {
            "text/plain": [
              "4"
            ]
          },
          "metadata": {
            "tags": []
          },
          "execution_count": 86
        }
      ]
    },
    {
      "cell_type": "markdown",
      "metadata": {
        "id": "feXMEw-HqaP1"
      },
      "source": [
        "## Value Iteration"
      ]
    },
    {
      "cell_type": "code",
      "metadata": {
        "colab": {
          "base_uri": "https://localhost:8080/"
        },
        "id": "DiTslHQOWZOq",
        "outputId": "610cfc1a-d47d-42c7-9711-66b561882799"
      },
      "source": [
        "v_values_F8x8_v0, v_exe_time_F8 = value_iteration(env_F8x8_v0, max_iters=1000, gamma=0.9)"
      ],
      "execution_count": 22,
      "outputs": [
        {
          "output_type": "stream",
          "text": [
            "Converge at 118-th iteration.\n"
          ],
          "name": "stdout"
        }
      ]
    },
    {
      "cell_type": "code",
      "metadata": {
        "colab": {
          "base_uri": "https://localhost:8080/"
        },
        "id": "dxlgFhZvXChC",
        "outputId": "2d3ee0b7-d8ba-4f48-a178-e09a02e310f9"
      },
      "source": [
        "v_values_F8x8_v0"
      ],
      "execution_count": 23,
      "outputs": [
        {
          "output_type": "execute_result",
          "data": {
            "text/plain": [
              "array([0.00641104, 0.00854808, 0.01230044, 0.01778942, 0.02508214,\n",
              "       0.03247089, 0.03957134, 0.04297844, 0.00602405, 0.00764512,\n",
              "       0.01091162, 0.01642654, 0.02605411, 0.03619409, 0.0493547 ,\n",
              "       0.05730461, 0.00509024, 0.0058532 , 0.00677534, 0.        ,\n",
              "       0.02557084, 0.03882139, 0.06763973, 0.08435607, 0.0042256 ,\n",
              "       0.00476954, 0.00581968, 0.0078541 , 0.02036065, 0.        ,\n",
              "       0.09175501, 0.12919111, 0.00318093, 0.00319659, 0.00270488,\n",
              "       0.        , 0.0344439 , 0.06195145, 0.10901921, 0.20969093,\n",
              "       0.00186915, 0.        , 0.        , 0.01085079, 0.03250092,\n",
              "       0.06304172, 0.        , 0.36008773, 0.00118046, 0.        ,\n",
              "       0.00137717, 0.00366839, 0.        , 0.11568671, 0.        ,\n",
              "       0.63051379, 0.00088531, 0.00077462, 0.00092218, 0.        ,\n",
              "       0.13824885, 0.32258065, 0.61443932, 0.        ])"
            ]
          },
          "metadata": {
            "tags": []
          },
          "execution_count": 23
        }
      ]
    },
    {
      "cell_type": "code",
      "metadata": {
        "colab": {
          "base_uri": "https://localhost:8080/"
        },
        "id": "IRfi3TvOhCT9",
        "outputId": "04e2a433-fc3c-4425-f8c3-5bd19658e909"
      },
      "source": [
        "v_exe_time_F8"
      ],
      "execution_count": 24,
      "outputs": [
        {
          "output_type": "execute_result",
          "data": {
            "text/plain": [
              "0.30692100524902344"
            ]
          },
          "metadata": {
            "tags": []
          },
          "execution_count": 24
        }
      ]
    },
    {
      "cell_type": "code",
      "metadata": {
        "colab": {
          "base_uri": "https://localhost:8080/"
        },
        "id": "Cil9sWclXHIj",
        "outputId": "8cf9b7c8-d83f-4127-d4d6-ef9574892fa4"
      },
      "source": [
        "v_policy_F8x8_v0 = policy_extracion(env_F8x8_v0, v_values_F8x8_v0, gamma=0.9)\n",
        "print(v_policy_F8x8_v0)"
      ],
      "execution_count": 25,
      "outputs": [
        {
          "output_type": "stream",
          "text": [
            "[3 2 2 2 2 2 2 2 3 3 3 3 2 2 2 1 3 3 0 0 2 3 2 1 3 3 3 1 0 0 2 1 3 3 0 0 2\n",
            " 1 3 2 0 0 0 1 3 0 0 2 0 0 1 0 0 0 0 2 0 1 0 0 1 1 1 0]\n"
          ],
          "name": "stdout"
        }
      ]
    },
    {
      "cell_type": "code",
      "metadata": {
        "colab": {
          "base_uri": "https://localhost:8080/"
        },
        "id": "j74INcBsXRt8",
        "outputId": "d523457b-d251-4703-fe69-e5476d432c18"
      },
      "source": [
        "play(env_F8x8_v0, v_policy_F8x8_v0)"
      ],
      "execution_count": 26,
      "outputs": [
        {
          "output_type": "stream",
          "text": [
            "  (Right)\n",
            "SFFFFFFF\n",
            "FFFFFFFF\n",
            "FFFHFFFF\n",
            "FFFFFHFF\n",
            "FFFHFFFF\n",
            "FHHFFFHF\n",
            "FHFFHFHF\n",
            "FFFHFFF\u001b[41mG\u001b[0m\n",
            "Step: 54\n",
            "Step reward: 1.0\n",
            "Total reward: 1.0\n",
            "Win!\n"
          ],
          "name": "stdout"
        },
        {
          "output_type": "execute_result",
          "data": {
            "text/plain": [
              "1.0"
            ]
          },
          "metadata": {
            "tags": []
          },
          "execution_count": 26
        }
      ]
    },
    {
      "cell_type": "code",
      "metadata": {
        "colab": {
          "base_uri": "https://localhost:8080/"
        },
        "id": "vmsgPWeHXdZT",
        "outputId": "d90da443-f70f-467a-92ab-79d9ae6710c8"
      },
      "source": [
        "play_multiple_times(env_F8x8_v0, v_policy_F8x8_v0, max_episodes=1000)"
      ],
      "execution_count": 27,
      "outputs": [
        {
          "output_type": "stream",
          "text": [
            "Number of successes: 753/1000\n"
          ],
          "name": "stdout"
        }
      ]
    },
    {
      "cell_type": "markdown",
      "metadata": {
        "id": "M9Ftdeu6qeBL"
      },
      "source": [
        "## Policy Iteration"
      ]
    },
    {
      "cell_type": "code",
      "metadata": {
        "id": "LmvXVPlFqpfJ",
        "colab": {
          "base_uri": "https://localhost:8080/"
        },
        "outputId": "6b176feb-4018-4eaf-9644-2507e6c458b1"
      },
      "source": [
        "p_policy_F8x8_v0, p_exe_time_F8 = policy_iteration(env_F8x8_v0, max_iters=1000, gamma=0.9)\n",
        "print(p_policy_F8x8_v0)"
      ],
      "execution_count": 28,
      "outputs": [
        {
          "output_type": "stream",
          "text": [
            "Policy evaluation convergence at 1-th iteration\n",
            "Policy evaluation convergence at 28-th iteration\n",
            "Policy evaluation convergence at 92-th iteration\n",
            "Policy evaluation convergence at 93-th iteration\n",
            "Policy evaluation convergence at 91-th iteration\n",
            "Policy evaluation convergence at 93-th iteration\n",
            "Policy evaluation convergence at 96-th iteration\n",
            "Policy evaluation convergence at 101-th iteration\n",
            "Policy evaluation convergence at 113-th iteration\n",
            "Policy evaluation convergence at 118-th iteration\n",
            "------------------------------------\n",
            "Policy iteration converge at 10-th iteration\n",
            "[3 2 2 2 2 2 2 2 3 3 3 3 2 2 2 1 3 3 0 0 2 3 2 1 3 3 3 1 0 0 2 1 3 3 0 0 2\n",
            " 1 3 2 0 0 0 1 3 0 0 2 0 0 1 0 0 0 0 2 0 1 0 0 1 1 1 0]\n"
          ],
          "name": "stdout"
        }
      ]
    },
    {
      "cell_type": "code",
      "metadata": {
        "colab": {
          "base_uri": "https://localhost:8080/"
        },
        "id": "HC5z0A0WhIKd",
        "outputId": "2db32ad2-99f9-41c3-aa1b-e41aa75d21db"
      },
      "source": [
        "p_exe_time_F8"
      ],
      "execution_count": 29,
      "outputs": [
        {
          "output_type": "execute_result",
          "data": {
            "text/plain": [
              "0.03680825233459473"
            ]
          },
          "metadata": {
            "tags": []
          },
          "execution_count": 29
        }
      ]
    },
    {
      "cell_type": "code",
      "metadata": {
        "colab": {
          "base_uri": "https://localhost:8080/"
        },
        "id": "GU49j45hZcAD",
        "outputId": "f08f6917-1e12-443f-b4bf-55a560bc59e7"
      },
      "source": [
        "play(env_F8x8_v0, p_policy_F8x8_v0)"
      ],
      "execution_count": 30,
      "outputs": [
        {
          "output_type": "stream",
          "text": [
            "  (Right)\n",
            "SFFFFFFF\n",
            "FFFFFFFF\n",
            "FFFHFFFF\n",
            "FFFFFHFF\n",
            "FFFHFFFF\n",
            "FHHFFFHF\n",
            "FHFFHFHF\n",
            "FFFHFFF\u001b[41mG\u001b[0m\n",
            "Step: 75\n",
            "Step reward: 1.0\n",
            "Total reward: 1.0\n",
            "Win!\n"
          ],
          "name": "stdout"
        },
        {
          "output_type": "execute_result",
          "data": {
            "text/plain": [
              "1.0"
            ]
          },
          "metadata": {
            "tags": []
          },
          "execution_count": 30
        }
      ]
    },
    {
      "cell_type": "code",
      "metadata": {
        "colab": {
          "base_uri": "https://localhost:8080/"
        },
        "id": "5x--nZt1Zd8J",
        "outputId": "5b144a40-4434-4ea9-98ce-446f72720a76"
      },
      "source": [
        "play_multiple_times(env_F8x8_v0, p_policy_F8x8_v0, max_episodes=1000)"
      ],
      "execution_count": 31,
      "outputs": [
        {
          "output_type": "stream",
          "text": [
            "Number of successes: 773/1000\n"
          ],
          "name": "stdout"
        }
      ]
    },
    {
      "cell_type": "markdown",
      "metadata": {
        "id": "u0u53x7Xy3MJ"
      },
      "source": [
        "# Taxi-v3"
      ]
    },
    {
      "cell_type": "code",
      "metadata": {
        "id": "DJcMY7lzXxzK"
      },
      "source": [
        "env_taxi_v3 = gym.make('Taxi-v3')"
      ],
      "execution_count": 87,
      "outputs": []
    },
    {
      "cell_type": "code",
      "metadata": {
        "colab": {
          "base_uri": "https://localhost:8080/"
        },
        "id": "Q-IQeAPDAvxo",
        "outputId": "1a8206a0-b4ce-41db-e6e3-769eda9a4c8c"
      },
      "source": [
        "env_taxi_v3.observation_space.n"
      ],
      "execution_count": 88,
      "outputs": [
        {
          "output_type": "execute_result",
          "data": {
            "text/plain": [
              "500"
            ]
          },
          "metadata": {
            "tags": []
          },
          "execution_count": 88
        }
      ]
    },
    {
      "cell_type": "code",
      "metadata": {
        "colab": {
          "base_uri": "https://localhost:8080/"
        },
        "id": "efW8PYdgAyuG",
        "outputId": "315f7aa3-f555-43df-abdd-8ee05a60f145"
      },
      "source": [
        "env_taxi_v3.action_space.n"
      ],
      "execution_count": 89,
      "outputs": [
        {
          "output_type": "execute_result",
          "data": {
            "text/plain": [
              "6"
            ]
          },
          "metadata": {
            "tags": []
          },
          "execution_count": 89
        }
      ]
    },
    {
      "cell_type": "markdown",
      "metadata": {
        "id": "IrGVAqKIqgRs"
      },
      "source": [
        "## Value Iteration"
      ]
    },
    {
      "cell_type": "code",
      "metadata": {
        "colab": {
          "base_uri": "https://localhost:8080/"
        },
        "id": "J24b1E5HKowk",
        "outputId": "0dd40f59-4059-4fb1-f7d7-bcd5c370f451"
      },
      "source": [
        "v_values_taxi_v3, v_exe_time_T3 = value_iteration(env_taxi_v3, max_iters=1000, gamma=0.9)"
      ],
      "execution_count": 95,
      "outputs": [
        {
          "output_type": "stream",
          "text": [
            "Converge at 117-th iteration.\n"
          ],
          "name": "stdout"
        }
      ]
    },
    {
      "cell_type": "code",
      "metadata": {
        "id": "4kAdMA__L8YO",
        "colab": {
          "base_uri": "https://localhost:8080/"
        },
        "outputId": "73b509aa-703c-48fd-b081-2d3ed1d2b300"
      },
      "source": [
        "v_values_taxi_v3"
      ],
      "execution_count": 96,
      "outputs": [
        {
          "output_type": "execute_result",
          "data": {
            "text/plain": [
              "array([ 89.47323891,  32.81971401,  55.26423891,  37.57755845,\n",
              "         8.43222921,  32.81971401,   8.43222921,  15.28447953,\n",
              "        32.81971401,  18.09386122,  55.26423891,  21.2154998 ,\n",
              "        12.75594298,  18.09386122,  12.75594298,  37.57755845,\n",
              "       100.52591945,  37.57755845,  62.51591945,  42.86394891,\n",
              "        79.52591945,  28.53774704,  48.73781945,  32.81971401,\n",
              "        10.48035311,  37.57755845,  10.48035311,  18.09386122,\n",
              "        28.53774704,  15.28447953,  48.73781945,  18.09386122,\n",
              "        15.28447953,  21.2154998 ,  15.28447953,  42.86394891,\n",
              "        89.47323891,  42.86394891,  55.26423891,  48.73781945,\n",
              "        42.86394891,  12.75594298,  24.68388374,  15.28447953,\n",
              "        24.68388374,  70.57323891,  24.68388374,  37.57755845,\n",
              "        24.68388374,  12.75594298,  42.86394891,  15.28447953,\n",
              "        18.09386122,  24.68388374,  18.09386122,  48.73781945,\n",
              "        48.73781945,  79.52591945,  48.73781945,  55.26423891,\n",
              "        37.57755845,  10.48035311,  21.2154998 ,  12.75594298,\n",
              "        28.53774704,  79.52591945,  28.53774704,  42.86394891,\n",
              "        21.2154998 ,  10.48035311,  37.57755845,  12.75594298,\n",
              "        21.2154998 ,  28.53774704,  21.2154998 ,  55.26423891,\n",
              "        42.86394891,  89.47323891,  42.86394891,  62.51591945,\n",
              "        32.81971401,   8.43222921,  18.09386122,  10.48035311,\n",
              "        32.81971401,  89.47323891,  32.81971401,  48.73781945,\n",
              "        18.09386122,   8.43222921,  32.81971401,  10.48035311,\n",
              "        18.09386122,  24.68388374,  18.09386122,  48.73781945,\n",
              "        37.57755845, 100.52591945,  37.57755845,  55.26423891,\n",
              "        79.52591945,  28.53774704,  48.73781945,  32.81971401,\n",
              "        10.48035311,  37.57755845,  10.48035311,  18.09386122,\n",
              "        37.57755845,  21.2154998 ,  62.51591945,  24.68388374,\n",
              "        15.28447953,  21.2154998 ,  15.28447953,  42.86394891,\n",
              "        89.47323891,  42.86394891,  70.57323891,  48.73781945,\n",
              "        70.57323891,  24.68388374,  42.86394891,  28.53774704,\n",
              "        12.75594298,  42.86394891,  12.75594298,  21.2154998 ,\n",
              "        32.81971401,  18.09386122,  55.26423891,  21.2154998 ,\n",
              "        18.09386122,  24.68388374,  18.09386122,  48.73781945,\n",
              "        79.52591945,  48.73781945,  62.51591945,  55.26423891,\n",
              "        48.73781945,  15.28447953,  28.53774704,  18.09386122,\n",
              "        21.2154998 ,  62.51591945,  21.2154998 ,  32.81971401,\n",
              "        28.53774704,  15.28447953,  48.73781945,  18.09386122,\n",
              "        21.2154998 ,  28.53774704,  21.2154998 ,  55.26423891,\n",
              "        55.26423891,  70.57323891,  55.26423891,  62.51591945,\n",
              "        42.86394891,  12.75594298,  24.68388374,  15.28447953,\n",
              "        24.68388374,  70.57323891,  24.68388374,  37.57755845,\n",
              "        24.68388374,  12.75594298,  42.86394891,  15.28447953,\n",
              "        24.68388374,  32.81971401,  24.68388374,  62.51591945,\n",
              "        48.73781945,  79.52591945,  48.73781945,  70.57323891,\n",
              "        37.57755845,  10.48035311,  21.2154998 ,  12.75594298,\n",
              "        28.53774704,  79.52591945,  28.53774704,  42.86394891,\n",
              "        21.2154998 ,  10.48035311,  37.57755845,  12.75594298,\n",
              "        21.2154998 ,  28.53774704,  21.2154998 ,  55.26423891,\n",
              "        42.86394891,  89.47323891,  42.86394891,  62.51591945,\n",
              "        70.57323891,  24.68388374,  42.86394891,  28.53774704,\n",
              "        12.75594298,  42.86394891,  12.75594298,  21.2154998 ,\n",
              "        42.86394891,  24.68388374,  70.57323891,  28.53774704,\n",
              "        18.09386122,  24.68388374,  18.09386122,  48.73781945,\n",
              "        79.52591945,  48.73781945,  79.52591945,  55.26423891,\n",
              "        62.51591945,  21.2154998 ,  37.57755845,  24.68388374,\n",
              "        15.28447953,  48.73781945,  15.28447953,  24.68388374,\n",
              "        37.57755845,  21.2154998 ,  62.51591945,  24.68388374,\n",
              "        21.2154998 ,  28.53774704,  21.2154998 ,  55.26423891,\n",
              "        70.57323891,  55.26423891,  70.57323891,  62.51591945,\n",
              "        55.26423891,  18.09386122,  32.81971401,  21.2154998 ,\n",
              "        18.09386122,  55.26423891,  18.09386122,  28.53774704,\n",
              "        32.81971401,  18.09386122,  55.26423891,  21.2154998 ,\n",
              "        24.68388374,  32.81971401,  24.68388374,  62.51591945,\n",
              "        62.51591945,  62.51591945,  62.51591945,  70.57323891,\n",
              "        48.73781945,  15.28447953,  28.53774704,  18.09386122,\n",
              "        21.2154998 ,  62.51591945,  21.2154998 ,  32.81971401,\n",
              "        28.53774704,  15.28447953,  48.73781945,  18.09386122,\n",
              "        28.53774704,  37.57755845,  28.53774704,  70.57323891,\n",
              "        55.26423891,  70.57323891,  55.26423891,  79.52591945,\n",
              "        42.86394891,  12.75594298,  24.68388374,  15.28447953,\n",
              "        24.68388374,  70.57323891,  24.68388374,  37.57755845,\n",
              "        24.68388374,  12.75594298,  42.86394891,  15.28447953,\n",
              "        24.68388374,  32.81971401,  24.68388374,  62.51591945,\n",
              "        48.73781945,  79.52591945,  48.73781945,  70.57323891,\n",
              "        62.51591945,  21.2154998 ,  37.57755845,  24.68388374,\n",
              "        10.48035311,  37.57755845,  10.48035311,  18.09386122,\n",
              "        48.73781945,  28.53774704,  79.52591945,  32.81971401,\n",
              "        15.28447953,  21.2154998 ,  15.28447953,  42.86394891,\n",
              "        70.57323891,  42.86394891,  89.47323891,  48.73781945,\n",
              "        55.26423891,  18.09386122,  32.81971401,  21.2154998 ,\n",
              "        12.75594298,  42.86394891,  12.75594298,  21.2154998 ,\n",
              "        32.81971401,  18.09386122,  55.26423891,  21.2154998 ,\n",
              "        18.09386122,  24.68388374,  18.09386122,  48.73781945,\n",
              "        62.51591945,  48.73781945,  62.51591945,  55.26423891,\n",
              "        48.73781945,  15.28447953,  28.53774704,  18.09386122,\n",
              "        15.28447953,  48.73781945,  15.28447953,  24.68388374,\n",
              "        28.53774704,  15.28447953,  48.73781945,  18.09386122,\n",
              "        21.2154998 ,  28.53774704,  21.2154998 ,  55.26423891,\n",
              "        55.26423891,  55.26423891,  55.26423891,  62.51591945,\n",
              "        42.86394891,  12.75594298,  24.68388374,  15.28447953,\n",
              "        18.09386122,  55.26423891,  18.09386122,  28.53774704,\n",
              "        24.68388374,  12.75594298,  42.86394891,  15.28447953,\n",
              "        32.81971401,  42.86394891,  32.81971401,  79.52591945,\n",
              "        48.73781945,  62.51591945,  48.73781945,  89.47323891,\n",
              "        37.57755845,  10.48035311,  21.2154998 ,  12.75594298,\n",
              "        21.2154998 ,  62.51591945,  21.2154998 ,  32.81971401,\n",
              "        21.2154998 ,  10.48035311,  37.57755845,  12.75594298,\n",
              "        28.53774704,  37.57755845,  28.53774704,  70.57323891,\n",
              "        42.86394891,  70.57323891,  42.86394891,  79.52591945,\n",
              "        55.26423891,  18.09386122,  32.81971401,  21.2154998 ,\n",
              "         8.43222921,  32.81971401,   8.43222921,  15.28447953,\n",
              "        55.26423891,  32.81971401,  89.47323891,  37.57755845,\n",
              "        12.75594298,  18.09386122,  12.75594298,  37.57755845,\n",
              "        62.51591945,  37.57755845, 100.52591945,  42.86394891,\n",
              "        48.73781945,  15.28447953,  28.53774704,  18.09386122,\n",
              "        10.48035311,  37.57755845,  10.48035311,  18.09386122,\n",
              "        28.53774704,  15.28447953,  48.73781945,  18.09386122,\n",
              "        15.28447953,  21.2154998 ,  15.28447953,  42.86394891,\n",
              "        55.26423891,  42.86394891,  55.26423891,  48.73781945,\n",
              "        42.86394891,  12.75594298,  24.68388374,  15.28447953,\n",
              "        12.75594298,  42.86394891,  12.75594298,  21.2154998 ,\n",
              "        24.68388374,  12.75594298,  42.86394891,  15.28447953,\n",
              "        18.09386122,  24.68388374,  18.09386122,  48.73781945,\n",
              "        48.73781945,  48.73781945,  48.73781945,  55.26423891,\n",
              "        37.57755845,  10.48035311,  21.2154998 ,  12.75594298,\n",
              "        15.28447953,  48.73781945,  15.28447953,  24.68388374,\n",
              "        21.2154998 ,  10.48035311,  37.57755845,  12.75594298,\n",
              "        37.57755845,  48.73781945,  37.57755845,  89.47323891,\n",
              "        42.86394891,  55.26423891,  42.86394891, 100.52591945,\n",
              "        32.81971401,   8.43222921,  18.09386122,  10.48035311,\n",
              "        18.09386122,  55.26423891,  18.09386122,  28.53774704,\n",
              "        18.09386122,   8.43222921,  32.81971401,  10.48035311,\n",
              "        32.81971401,  42.86394891,  32.81971401,  79.52591945,\n",
              "        37.57755845,  62.51591945,  37.57755845,  89.47323891])"
            ]
          },
          "metadata": {
            "tags": []
          },
          "execution_count": 96
        }
      ]
    },
    {
      "cell_type": "code",
      "metadata": {
        "colab": {
          "base_uri": "https://localhost:8080/"
        },
        "id": "aXBVvyI-hSKJ",
        "outputId": "ffad08f2-b354-4ea7-e723-9768a8762125"
      },
      "source": [
        "v_exe_time_T3"
      ],
      "execution_count": 97,
      "outputs": [
        {
          "output_type": "execute_result",
          "data": {
            "text/plain": [
              "1.6266841888427734"
            ]
          },
          "metadata": {
            "tags": []
          },
          "execution_count": 97
        }
      ]
    },
    {
      "cell_type": "code",
      "metadata": {
        "colab": {
          "base_uri": "https://localhost:8080/"
        },
        "id": "g3ZV_yf6MAOj",
        "outputId": "fd7e6442-5237-414a-d4a5-54f5e5c79d9c"
      },
      "source": [
        "v_policy_taxi_v3 = policy_extracion(env_taxi_v3, v_values_taxi_v3, gamma=0.9)\n",
        "print(v_policy_taxi_v3)"
      ],
      "execution_count": 36,
      "outputs": [
        {
          "output_type": "stream",
          "text": [
            "[4 4 4 4 0 0 0 0 0 0 0 0 0 0 0 0 5 0 0 0 3 3 3 3 0 0 0 0 0 0 0 0 0 0 0 0 3\n",
            " 0 0 0 0 0 0 0 2 2 2 2 0 0 0 0 0 0 0 0 0 2 0 0 0 0 0 0 2 2 2 2 0 0 0 0 0 0\n",
            " 0 0 0 2 0 0 0 0 0 0 4 4 4 4 0 0 0 0 0 0 0 0 0 5 0 0 1 1 1 1 0 0 0 0 0 0 0\n",
            " 0 0 0 0 0 1 0 0 0 1 1 1 1 0 0 0 0 0 0 0 0 0 0 0 0 1 0 0 0 0 0 0 0 1 1 1 1\n",
            " 0 0 0 0 0 0 0 0 0 1 0 0 0 0 0 0 1 1 1 1 0 0 0 0 0 0 0 0 0 1 0 0 0 0 0 0 1\n",
            " 1 1 1 0 0 0 0 0 0 0 0 0 1 0 0 1 1 1 1 2 2 2 2 0 0 0 0 2 2 2 2 1 2 0 2 1 1\n",
            " 1 1 2 2 2 2 3 3 3 3 2 2 2 2 1 2 3 2 3 3 3 3 1 1 1 1 3 3 3 3 2 2 2 2 3 1 3\n",
            " 2 3 3 3 3 1 1 1 1 3 3 3 3 0 0 0 0 3 1 3 0 3 3 3 3 1 1 1 1 3 3 3 3 0 0 0 0\n",
            " 3 1 3 0 1 1 1 1 1 1 1 1 0 0 0 0 1 1 1 1 1 1 0 1 1 1 1 1 1 1 1 1 1 1 1 1 1\n",
            " 1 1 1 1 1 1 1 1 1 1 1 1 1 1 1 1 1 1 1 1 1 1 1 1 1 1 1 1 1 1 1 1 1 1 1 1 1\n",
            " 1 1 0 0 0 0 1 1 1 0 1 1 1 1 1 1 1 1 1 1 1 1 0 0 0 0 1 1 1 0 1 1 1 1 1 1 1\n",
            " 1 4 4 4 4 1 1 1 1 1 1 5 1 1 1 1 1 1 1 1 1 1 1 1 1 1 1 1 1 1 1 1 1 1 1 1 1\n",
            " 1 1 1 1 1 1 1 1 1 1 1 1 1 1 1 1 1 1 1 1 1 1 1 1 1 1 1 1 4 4 4 4 1 1 1 5 1\n",
            " 1 1 1 1 1 1 1 1 1 1 1 3 3 3 3 1 1 1 3]\n"
          ],
          "name": "stdout"
        }
      ]
    },
    {
      "cell_type": "code",
      "metadata": {
        "colab": {
          "base_uri": "https://localhost:8080/"
        },
        "id": "zcWLLHatMQDu",
        "outputId": "fdbfcb3e-06d4-4492-e9ca-7ad1de5b38ff"
      },
      "source": [
        "play(env_taxi_v3, v_policy_taxi_v3)"
      ],
      "execution_count": 37,
      "outputs": [
        {
          "output_type": "stream",
          "text": [
            "+---------+\n",
            "|R: | : :G|\n",
            "| : | : : |\n",
            "| : : : : |\n",
            "| | : | : |\n",
            "|Y| : |\u001b[35m\u001b[34;1m\u001b[43mB\u001b[0m\u001b[0m\u001b[0m: |\n",
            "+---------+\n",
            "  (Dropoff)\n",
            "Step: 17\n",
            "Step reward: 20\n",
            "Total reward: 4\n",
            "Win!\n"
          ],
          "name": "stdout"
        },
        {
          "output_type": "execute_result",
          "data": {
            "text/plain": [
              "4"
            ]
          },
          "metadata": {
            "tags": []
          },
          "execution_count": 37
        }
      ]
    },
    {
      "cell_type": "code",
      "metadata": {
        "colab": {
          "base_uri": "https://localhost:8080/"
        },
        "id": "WWeppA_cONkD",
        "outputId": "2e0263e0-3fdc-40ca-a742-20daf51275a4"
      },
      "source": [
        "play_multiple_times(env_taxi_v3, v_policy_taxi_v3, max_episodes=1000)"
      ],
      "execution_count": 38,
      "outputs": [
        {
          "output_type": "stream",
          "text": [
            "Number of successes: 1000/1000\n"
          ],
          "name": "stdout"
        }
      ]
    },
    {
      "cell_type": "markdown",
      "metadata": {
        "id": "yJpNY3l_qiah"
      },
      "source": [
        "## Policy Iteration"
      ]
    },
    {
      "cell_type": "code",
      "metadata": {
        "id": "YPNnOmquqlLU",
        "colab": {
          "base_uri": "https://localhost:8080/"
        },
        "outputId": "347ff515-56d7-423a-a20a-f1e6e8b11c09"
      },
      "source": [
        "p_policy_taxi_v3, p_exe_time_T3 = policy_iteration(env_taxi_v3, max_iters=1000, gamma=0.9)\n",
        "print(p_policy_taxi_v3)"
      ],
      "execution_count": 39,
      "outputs": [
        {
          "output_type": "stream",
          "text": [
            "Policy evaluation convergence at 95-th iteration\n",
            "Policy evaluation convergence at 100-th iteration\n",
            "Policy evaluation convergence at 103-th iteration\n",
            "Policy evaluation convergence at 104-th iteration\n",
            "Policy evaluation convergence at 105-th iteration\n",
            "Policy evaluation convergence at 110-th iteration\n",
            "Policy evaluation convergence at 111-th iteration\n",
            "Policy evaluation convergence at 112-th iteration\n",
            "Policy evaluation convergence at 113-th iteration\n",
            "Policy evaluation convergence at 116-th iteration\n",
            "Policy evaluation convergence at 117-th iteration\n",
            "Policy evaluation convergence at 117-th iteration\n",
            "Policy evaluation convergence at 117-th iteration\n",
            "Policy evaluation convergence at 117-th iteration\n",
            "Policy evaluation convergence at 117-th iteration\n",
            "Policy evaluation convergence at 117-th iteration\n",
            "Policy evaluation convergence at 117-th iteration\n",
            "Policy evaluation convergence at 117-th iteration\n",
            "------------------------------------\n",
            "Policy iteration converge at 18-th iteration\n",
            "[4 4 4 4 0 0 0 0 0 0 0 0 0 0 0 0 5 0 0 0 3 3 3 3 0 0 0 0 0 0 0 0 0 0 0 0 3\n",
            " 0 0 0 0 0 0 0 2 2 2 2 0 0 0 0 0 0 0 0 0 2 0 0 0 0 0 0 2 2 2 2 0 0 0 0 0 0\n",
            " 0 0 0 2 0 0 0 0 0 0 4 4 4 4 0 0 0 0 0 0 0 0 0 5 0 0 1 1 1 1 0 0 0 0 0 0 0\n",
            " 0 0 0 0 0 1 0 0 0 1 1 1 1 0 0 0 0 0 0 0 0 0 0 0 0 1 0 0 0 0 0 0 0 1 1 1 1\n",
            " 0 0 0 0 0 0 0 0 0 1 0 0 0 0 0 0 1 1 1 1 0 0 0 0 0 0 0 0 0 1 0 0 0 0 0 0 1\n",
            " 1 1 1 0 0 0 0 0 0 0 0 0 1 0 0 1 1 1 1 2 2 2 2 0 0 0 0 2 2 2 2 1 2 0 2 1 1\n",
            " 1 1 2 2 2 2 3 3 3 3 2 2 2 2 1 2 3 2 3 3 3 3 1 1 1 1 3 3 3 3 2 2 2 2 3 1 3\n",
            " 2 3 3 3 3 1 1 1 1 3 3 3 3 0 0 0 0 3 1 3 0 3 3 3 3 1 1 1 1 3 3 3 3 0 0 0 0\n",
            " 3 1 3 0 1 1 1 1 1 1 1 1 0 0 0 0 1 1 1 1 1 1 0 1 1 1 1 1 1 1 1 1 1 1 1 1 1\n",
            " 1 1 1 1 1 1 1 1 1 1 1 1 1 1 1 1 1 1 1 1 1 1 1 1 1 1 1 1 1 1 1 1 1 1 1 1 1\n",
            " 1 1 0 0 0 0 1 1 1 0 1 1 1 1 1 1 1 1 1 1 1 1 0 0 0 0 1 1 1 0 1 1 1 1 1 1 1\n",
            " 1 4 4 4 4 1 1 1 1 1 1 5 1 1 1 1 1 1 1 1 1 1 1 1 1 1 1 1 1 1 1 1 1 1 1 1 1\n",
            " 1 1 1 1 1 1 1 1 1 1 1 1 1 1 1 1 1 1 1 1 1 1 1 1 1 1 1 1 4 4 4 4 1 1 1 5 1\n",
            " 1 1 1 1 1 1 1 1 1 1 1 3 3 3 3 1 1 1 3]\n"
          ],
          "name": "stdout"
        }
      ]
    },
    {
      "cell_type": "code",
      "metadata": {
        "colab": {
          "base_uri": "https://localhost:8080/"
        },
        "id": "coqXK6bMhaU9",
        "outputId": "0c17b7ac-e0b5-48df-ff96-39402ca12220"
      },
      "source": [
        "p_exe_time_T3"
      ],
      "execution_count": 40,
      "outputs": [
        {
          "output_type": "execute_result",
          "data": {
            "text/plain": [
              "0.18009042739868164"
            ]
          },
          "metadata": {
            "tags": []
          },
          "execution_count": 40
        }
      ]
    },
    {
      "cell_type": "code",
      "metadata": {
        "colab": {
          "base_uri": "https://localhost:8080/"
        },
        "id": "Q3puXvaIZkpI",
        "outputId": "d5b2e904-36e7-4264-c58e-52572b37c815"
      },
      "source": [
        "play(env_taxi_v3, p_policy_taxi_v3)"
      ],
      "execution_count": 41,
      "outputs": [
        {
          "output_type": "stream",
          "text": [
            "+---------+\n",
            "|\u001b[35m\u001b[34;1m\u001b[43mR\u001b[0m\u001b[0m\u001b[0m: | : :G|\n",
            "| : | : : |\n",
            "| : : : : |\n",
            "| | : | : |\n",
            "|Y| : |B: |\n",
            "+---------+\n",
            "  (Dropoff)\n",
            "Step: 18\n",
            "Step reward: 20\n",
            "Total reward: 3\n",
            "Win!\n"
          ],
          "name": "stdout"
        },
        {
          "output_type": "execute_result",
          "data": {
            "text/plain": [
              "3"
            ]
          },
          "metadata": {
            "tags": []
          },
          "execution_count": 41
        }
      ]
    },
    {
      "cell_type": "code",
      "metadata": {
        "colab": {
          "base_uri": "https://localhost:8080/"
        },
        "id": "htKIyHJ6ZmJv",
        "outputId": "f4122240-ecc4-4654-ccba-95380546c3c4"
      },
      "source": [
        "play_multiple_times(env_taxi_v3, p_policy_taxi_v3, max_episodes=1000)"
      ],
      "execution_count": 42,
      "outputs": [
        {
          "output_type": "stream",
          "text": [
            "Number of successes: 1000/1000\n"
          ],
          "name": "stdout"
        }
      ]
    },
    {
      "cell_type": "markdown",
      "metadata": {
        "id": "h6GasRbdT6w2"
      },
      "source": [
        "# Comparision"
      ]
    },
    {
      "cell_type": "markdown",
      "metadata": {
        "id": "R-lhkIm2ZpNk"
      },
      "source": [
        "## Import lib"
      ]
    },
    {
      "cell_type": "code",
      "metadata": {
        "id": "RhEkzpG0T46w"
      },
      "source": [
        "import pandas as pd\n",
        "import seaborn as sns\n",
        "import matplotlib.pyplot as plt\n",
        "% matplotlib inline"
      ],
      "execution_count": 56,
      "outputs": []
    },
    {
      "cell_type": "markdown",
      "metadata": {
        "id": "Rt2vOIx0Xjrq"
      },
      "source": [
        "## Create comparision file"
      ]
    },
    {
      "cell_type": "code",
      "metadata": {
        "id": "RqycYs-oUOEv"
      },
      "source": [
        "df = pd.DataFrame([['FrozenLake-v0', 'Value Iteration', v_exe_time_F4]]).to_csv('Time_Comparision.csv', mode='a+', header=['Game', 'Algorithm', 'Time'])\n",
        "df = pd.DataFrame([['FrozenLake-v0', 'Policy Iteration', p_exe_time_F4]]).to_csv('Time_Comparision.csv', mode='a+', header=None)\n",
        "df = pd.DataFrame([['FrozenLake8x8-v0', 'Value Iteration', v_exe_time_F8]]).to_csv('Time_Comparision.csv', mode='a+', header=None)\n",
        "df = pd.DataFrame([['FrozenLake8x8-v0', 'Policy Iteration', p_exe_time_F8]]).to_csv('Time_Comparision.csv', mode='a+', header=None)\n",
        "df = pd.DataFrame([['Taxi-v3', 'Value Iteration', v_exe_time_T3]]).to_csv('Time_Comparision.csv', mode='a+', header=None)\n",
        "df = pd.DataFrame([['Taxi-v3', 'Policy Iteration', p_exe_time_T3]]).to_csv('Time_Comparision.csv', mode='a+', header=None)"
      ],
      "execution_count": 77,
      "outputs": []
    },
    {
      "cell_type": "markdown",
      "metadata": {
        "id": "8ot8bFh0X3QM"
      },
      "source": [
        "## Read comparision file"
      ]
    },
    {
      "cell_type": "code",
      "metadata": {
        "colab": {
          "base_uri": "https://localhost:8080/",
          "height": 227
        },
        "id": "03ULdnXJVnVx",
        "outputId": "6620604b-ff58-487a-9b99-ec70e76cd660"
      },
      "source": [
        "data = pd.read_csv('Time_Comparision.csv')\n",
        "data.pop('Unnamed: 0')\n",
        "data"
      ],
      "execution_count": 78,
      "outputs": [
        {
          "output_type": "execute_result",
          "data": {
            "text/html": [
              "<div>\n",
              "<style scoped>\n",
              "    .dataframe tbody tr th:only-of-type {\n",
              "        vertical-align: middle;\n",
              "    }\n",
              "\n",
              "    .dataframe tbody tr th {\n",
              "        vertical-align: top;\n",
              "    }\n",
              "\n",
              "    .dataframe thead th {\n",
              "        text-align: right;\n",
              "    }\n",
              "</style>\n",
              "<table border=\"1\" class=\"dataframe\">\n",
              "  <thead>\n",
              "    <tr style=\"text-align: right;\">\n",
              "      <th></th>\n",
              "      <th>Game</th>\n",
              "      <th>Algorithm</th>\n",
              "      <th>Time</th>\n",
              "    </tr>\n",
              "  </thead>\n",
              "  <tbody>\n",
              "    <tr>\n",
              "      <th>0</th>\n",
              "      <td>FrozenLake-v0</td>\n",
              "      <td>Value Iteration</td>\n",
              "      <td>0.060535</td>\n",
              "    </tr>\n",
              "    <tr>\n",
              "      <th>1</th>\n",
              "      <td>FrozenLake-v0</td>\n",
              "      <td>Policy Iteration</td>\n",
              "      <td>0.012370</td>\n",
              "    </tr>\n",
              "    <tr>\n",
              "      <th>2</th>\n",
              "      <td>FrozenLake8x8-v0</td>\n",
              "      <td>Value Iteration</td>\n",
              "      <td>0.306921</td>\n",
              "    </tr>\n",
              "    <tr>\n",
              "      <th>3</th>\n",
              "      <td>FrozenLake8x8-v0</td>\n",
              "      <td>Policy Iteration</td>\n",
              "      <td>0.036808</td>\n",
              "    </tr>\n",
              "    <tr>\n",
              "      <th>4</th>\n",
              "      <td>Taxi-v3</td>\n",
              "      <td>Value Iteration</td>\n",
              "      <td>1.487158</td>\n",
              "    </tr>\n",
              "    <tr>\n",
              "      <th>5</th>\n",
              "      <td>Taxi-v3</td>\n",
              "      <td>Policy Iteration</td>\n",
              "      <td>0.180090</td>\n",
              "    </tr>\n",
              "  </tbody>\n",
              "</table>\n",
              "</div>"
            ],
            "text/plain": [
              "               Game         Algorithm      Time\n",
              "0     FrozenLake-v0   Value Iteration  0.060535\n",
              "1     FrozenLake-v0  Policy Iteration  0.012370\n",
              "2  FrozenLake8x8-v0   Value Iteration  0.306921\n",
              "3  FrozenLake8x8-v0  Policy Iteration  0.036808\n",
              "4           Taxi-v3   Value Iteration  1.487158\n",
              "5           Taxi-v3  Policy Iteration  0.180090"
            ]
          },
          "metadata": {
            "tags": []
          },
          "execution_count": 78
        }
      ]
    },
    {
      "cell_type": "markdown",
      "metadata": {
        "id": "OofC8z5SZFJI"
      },
      "source": [
        "## Draw comparision chart"
      ]
    },
    {
      "cell_type": "code",
      "metadata": {
        "colab": {
          "base_uri": "https://localhost:8080/",
          "height": 605
        },
        "id": "u-mKW5mjgcFx",
        "outputId": "7e012587-edf3-4018-c0ce-c343b53a5bc6"
      },
      "source": [
        "plt.figure(figsize=(15,10))\n",
        "p = sns.barplot(x='Game', y='Time', data = data, hue='Algorithm', palette='bright')\n",
        "_ = plt.setp(p.get_xticklabels(), rotation=0) "
      ],
      "execution_count": 79,
      "outputs": [
        {
          "output_type": "display_data",
          "data": {
            "image/png": "[encoded data removed]",
            "text/plain": [
              "<Figure size 1080x720 with 1 Axes>"
            ]
          },
          "metadata": {
            "tags": [],
            "needs_background": "light"
          }
        }
      ]
    },
    {
      "cell_type": "code",
      "metadata": {
        "id": "X-hZbRa-eb4Q"
      },
      "source": [
        ""
      ],
      "execution_count": null,
      "outputs": []
    }
  ]
}